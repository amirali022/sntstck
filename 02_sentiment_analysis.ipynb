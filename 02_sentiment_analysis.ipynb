{
 "cells": [
  {
   "cell_type": "markdown",
   "metadata": {},
   "source": [
    "##### Import statements"
   ]
  },
  {
   "cell_type": "code",
   "execution_count": 1,
   "metadata": {},
   "outputs": [],
   "source": [
    "import pandas as pd\n",
    "import nltk\n",
    "from nltk.sentiment.vader import SentimentIntensityAnalyzer\n",
    "import matplotlib.pyplot as plt"
   ]
  },
  {
   "cell_type": "markdown",
   "metadata": {},
   "source": [
    "##### Download VADER lexicon"
   ]
  },
  {
   "cell_type": "code",
   "execution_count": 2,
   "metadata": {},
   "outputs": [
    {
     "name": "stderr",
     "output_type": "stream",
     "text": [
      "[nltk_data] Downloading package vader_lexicon to\n",
      "[nltk_data]     C:\\Users\\amrka\\AppData\\Roaming\\nltk_data...\n",
      "[nltk_data]   Package vader_lexicon is already up-to-date!\n"
     ]
    },
    {
     "data": {
      "text/plain": [
       "True"
      ]
     },
     "execution_count": 2,
     "metadata": {},
     "output_type": "execute_result"
    }
   ],
   "source": [
    "nltk.download( \"vader_lexicon\")"
   ]
  },
  {
   "cell_type": "markdown",
   "metadata": {},
   "source": [
    "##### Loading textual dataset"
   ]
  },
  {
   "cell_type": "code",
   "execution_count": 3,
   "metadata": {},
   "outputs": [],
   "source": [
    "df = pd.read_csv( \"data/result/clean-data.csv\", sep=\";\")"
   ]
  },
  {
   "cell_type": "markdown",
   "metadata": {},
   "source": [
    "##### Calculate polarity score"
   ]
  },
  {
   "cell_type": "code",
   "execution_count": 4,
   "metadata": {},
   "outputs": [],
   "source": [
    "sia = SentimentIntensityAnalyzer()\n",
    "\n",
    "sentiment_score = [ sia.polarity_scores( t) for t in df[ \"text\"]]"
   ]
  },
  {
   "cell_type": "markdown",
   "metadata": {},
   "source": [
    "##### Add scores to dataframe"
   ]
  },
  {
   "cell_type": "code",
   "execution_count": 5,
   "metadata": {},
   "outputs": [],
   "source": [
    "neg = []\n",
    "neu = []\n",
    "pos = []\n",
    "compound = []\n",
    "\n",
    "for score in sentiment_score:\n",
    "\tneg.append( score[ \"neg\"])\n",
    "\tneu.append( score[ \"neu\"])\n",
    "\tpos.append( score[ \"pos\"])\n",
    "\tcompound.append( score[ \"compound\"])\n",
    "\n",
    "df[ \"neg\"] = neg\n",
    "df[ \"neu\"] = neu\n",
    "df[ \"pos\"] = pos\n",
    "df[ \"compound\"] = compound"
   ]
  },
  {
   "cell_type": "markdown",
   "metadata": {},
   "source": [
    "##### Sentiment scores of first five samples"
   ]
  },
  {
   "cell_type": "code",
   "execution_count": 6,
   "metadata": {},
   "outputs": [
    {
     "name": "stdout",
     "output_type": "stream",
     "text": [
      "Text: What’s Next For Southwest Stock After A 20% Rise This Year?, Southwest Airlines (NYSE: LUV) reported its Q4 results earlier this year, with revenues and earnings above the street estimates.\n",
      "neg: 0.0, neu: 1.0, pos: 0.0, compound: 0.0\n",
      "Text: Another Strong Jobs Number But A Smaller Number Of Stocks Leading The Rally, Heading into the jobs report, estimates called for 190 thousand new jobs created and an unemployment rate of 3.7%.\n",
      "neg: 0.104, neu: 0.701, pos: 0.195, compound: 0.1027\n",
      "Text: One Size Does NOT Fit All - Talking To Women About Wealth Management, Women have known for years – one size does not fit all Heck, one size doesn't even fit most. Wealth management industry needs a new approach to serving and recruiting women!\n",
      "neg: 0.129, neu: 0.734, pos: 0.137, compound: 0.3318\n",
      "Text: Should You Pick CVS Stock At $75 After A 6% Fall This Year?, CVS Health (NYSE: CVS) reported its Q4 results last month, with revenues and earnings beating the street estimates.\n",
      "neg: 0.094, neu: 0.906, pos: 0.0, compound: -0.4588\n",
      "Text: Communicating Effectively In The Competitive Private Credit Landscape, If you want to capture mindshare in the competitive private credit landscape, here are six pointers to guide your communications strategy.\n",
      "neg: 0.0, neu: 0.642, pos: 0.358, compound: 0.8689\n"
     ]
    }
   ],
   "source": [
    "for i in range( 5):\n",
    "\trow = df.iloc[ i]\n",
    "\tprint( f\"Text: { row[ 'text']}\")\n",
    "\tprint( f\"neg: { row[ 'neg']}, neu: { row[ 'neu']}, pos: { row[ 'pos']}, compound: { row[ 'compound']}\")"
   ]
  },
  {
   "cell_type": "markdown",
   "metadata": {},
   "source": [
    "##### Histogram of compound sentiment score of all samples"
   ]
  },
  {
   "cell_type": "code",
   "execution_count": 7,
   "metadata": {},
   "outputs": [
    {
     "data": {
      "image/png": "[encoded data removed]",
      "text/plain": [
       "<Figure size 640x480 with 1 Axes>"
      ]
     },
     "metadata": {},
     "output_type": "display_data"
    }
   ],
   "source": [
    "plt.figure()\n",
    "plt.hist( compound, bins=10)\n",
    "plt.show()"
   ]
  },
  {
   "cell_type": "markdown",
   "metadata": {},
   "source": [
    "##### Saving result"
   ]
  },
  {
   "cell_type": "code",
   "execution_count": 8,
   "metadata": {},
   "outputs": [],
   "source": [
    "df.to_csv( \"data/result/clean-data-with-sentiment.csv\", sep=\";\", index=False)"
   ]
  }
 ],
 "metadata": {
  "kernelspec": {
   "display_name": "Python 3",
   "language": "python",
   "name": "python3"
  },
  "language_info": {
   "codemirror_mode": {
    "name": "ipython",
    "version": 3
   },
   "file_extension": ".py",
   "mimetype": "text/x-python",
   "name": "python",
   "nbconvert_exporter": "python",
   "pygments_lexer": "ipython3",
   "version": "3.11.7"
  }
 },
 "nbformat": 4,
 "nbformat_minor": 2
}
