{
 "cells": [
  {
   "cell_type": "markdown",
   "metadata": {},
   "source": [
    "##### Import statements"
   ]
  },
  {
   "cell_type": "code",
   "execution_count": 2,
   "metadata": {},
   "outputs": [],
   "source": [
    "import pandas as pd\n",
    "from utils import create_win_data, normalize, denormalize, features_and_labels, train_test_split, evaluate\n",
    "from models import Perceptron, LSTM, BiLSTM"
   ]
  },
  {
   "cell_type": "markdown",
   "metadata": {},
   "source": [
    "##### Load dateset"
   ]
  },
  {
   "cell_type": "code",
   "execution_count": 3,
   "metadata": {},
   "outputs": [
    {
     "data": {
      "text/html": [
       "<div>\n",
       "<style scoped>\n",
       "    .dataframe tbody tr th:only-of-type {\n",
       "        vertical-align: middle;\n",
       "    }\n",
       "\n",
       "    .dataframe tbody tr th {\n",
       "        vertical-align: top;\n",
       "    }\n",
       "\n",
       "    .dataframe thead th {\n",
       "        text-align: right;\n",
       "    }\n",
       "</style>\n",
       "<table border=\"1\" class=\"dataframe\">\n",
       "  <thead>\n",
       "    <tr style=\"text-align: right;\">\n",
       "      <th></th>\n",
       "      <th>Open</th>\n",
       "      <th>High</th>\n",
       "      <th>Low</th>\n",
       "      <th>Close</th>\n",
       "      <th>Volume</th>\n",
       "      <th>Neg</th>\n",
       "      <th>Neu</th>\n",
       "      <th>Pos</th>\n",
       "      <th>Compound</th>\n",
       "    </tr>\n",
       "    <tr>\n",
       "      <th>Date</th>\n",
       "      <th></th>\n",
       "      <th></th>\n",
       "      <th></th>\n",
       "      <th></th>\n",
       "      <th></th>\n",
       "      <th></th>\n",
       "      <th></th>\n",
       "      <th></th>\n",
       "      <th></th>\n",
       "    </tr>\n",
       "  </thead>\n",
       "  <tbody>\n",
       "    <tr>\n",
       "      <th>2020-08-03</th>\n",
       "      <td>3288.260010</td>\n",
       "      <td>3302.729980</td>\n",
       "      <td>3284.530029</td>\n",
       "      <td>3294.610107</td>\n",
       "      <td>4438940000</td>\n",
       "      <td>0.070060</td>\n",
       "      <td>0.841299</td>\n",
       "      <td>0.088701</td>\n",
       "      <td>0.061833</td>\n",
       "    </tr>\n",
       "    <tr>\n",
       "      <th>2020-08-04</th>\n",
       "      <td>3289.919922</td>\n",
       "      <td>3306.840088</td>\n",
       "      <td>3286.370117</td>\n",
       "      <td>3306.510010</td>\n",
       "      <td>4414380000</td>\n",
       "      <td>0.052134</td>\n",
       "      <td>0.851244</td>\n",
       "      <td>0.096622</td>\n",
       "      <td>0.175166</td>\n",
       "    </tr>\n",
       "    <tr>\n",
       "      <th>2020-08-05</th>\n",
       "      <td>3317.370117</td>\n",
       "      <td>3330.770020</td>\n",
       "      <td>3317.370117</td>\n",
       "      <td>3327.770020</td>\n",
       "      <td>4535060000</td>\n",
       "      <td>0.070892</td>\n",
       "      <td>0.839919</td>\n",
       "      <td>0.089257</td>\n",
       "      <td>0.079282</td>\n",
       "    </tr>\n",
       "    <tr>\n",
       "      <th>2020-08-06</th>\n",
       "      <td>3323.169922</td>\n",
       "      <td>3351.030029</td>\n",
       "      <td>3318.139893</td>\n",
       "      <td>3349.159912</td>\n",
       "      <td>4278930000</td>\n",
       "      <td>0.076577</td>\n",
       "      <td>0.815756</td>\n",
       "      <td>0.107628</td>\n",
       "      <td>0.156222</td>\n",
       "    </tr>\n",
       "    <tr>\n",
       "      <th>2020-08-07</th>\n",
       "      <td>3340.050049</td>\n",
       "      <td>3352.540039</td>\n",
       "      <td>3328.719971</td>\n",
       "      <td>3351.280029</td>\n",
       "      <td>4110030000</td>\n",
       "      <td>0.072143</td>\n",
       "      <td>0.843195</td>\n",
       "      <td>0.084597</td>\n",
       "      <td>0.079914</td>\n",
       "    </tr>\n",
       "  </tbody>\n",
       "</table>\n",
       "</div>"
      ],
      "text/plain": [
       "                   Open         High          Low        Close      Volume  \\\n",
       "Date                                                                         \n",
       "2020-08-03  3288.260010  3302.729980  3284.530029  3294.610107  4438940000   \n",
       "2020-08-04  3289.919922  3306.840088  3286.370117  3306.510010  4414380000   \n",
       "2020-08-05  3317.370117  3330.770020  3317.370117  3327.770020  4535060000   \n",
       "2020-08-06  3323.169922  3351.030029  3318.139893  3349.159912  4278930000   \n",
       "2020-08-07  3340.050049  3352.540039  3328.719971  3351.280029  4110030000   \n",
       "\n",
       "                 Neg       Neu       Pos  Compound  \n",
       "Date                                                \n",
       "2020-08-03  0.070060  0.841299  0.088701  0.061833  \n",
       "2020-08-04  0.052134  0.851244  0.096622  0.175166  \n",
       "2020-08-05  0.070892  0.839919  0.089257  0.079282  \n",
       "2020-08-06  0.076577  0.815756  0.107628  0.156222  \n",
       "2020-08-07  0.072143  0.843195  0.084597  0.079914  "
      ]
     },
     "execution_count": 3,
     "metadata": {},
     "output_type": "execute_result"
    }
   ],
   "source": [
    "df = pd.read_csv(\n",
    "\tfilepath_or_buffer=\"data/result/sp500-with-sentiment.csv\",\n",
    "\tindex_col=\"Date\"\n",
    ")\n",
    "\n",
    "df.head( 5)"
   ]
  },
  {
   "cell_type": "code",
   "execution_count": 4,
   "metadata": {},
   "outputs": [
    {
     "name": "stdout",
     "output_type": "stream",
     "text": [
      "Data Shape: (905, 2)\n"
     ]
    }
   ],
   "source": [
    "data = df[ [ \"Compound\", \"Close\"]].values\n",
    "\n",
    "print( f\"Data Shape: { data.shape}\")"
   ]
  },
  {
   "cell_type": "markdown",
   "metadata": {},
   "source": [
    "##### Static variable"
   ]
  },
  {
   "cell_type": "code",
   "execution_count": 5,
   "metadata": {},
   "outputs": [],
   "source": [
    "SPLIT = 0.85\n",
    "SEQUENCE_LENGTH = 11\n",
    "BATCH_SIZE = 100\n",
    "INPUT_DIM = data.shape[ -1]\n",
    "INPUT_TIMESTEPS = 10\n",
    "NEURONS = 50\n",
    "EPOCHS = 10"
   ]
  },
  {
   "cell_type": "markdown",
   "metadata": {},
   "source": [
    "##### Split train and test data"
   ]
  },
  {
   "cell_type": "code",
   "execution_count": 6,
   "metadata": {},
   "outputs": [
    {
     "name": "stdout",
     "output_type": "stream",
     "text": [
      "Train Data Shape: (769, 2)\n",
      "Test Data Shape: (136, 2)\n"
     ]
    }
   ],
   "source": [
    "train_data, test_data = train_test_split( data, SPLIT)\n",
    "\n",
    "print( f\"Train Data Shape: { train_data.shape}\")\n",
    "print( f\"Test Data Shape: { test_data.shape}\")"
   ]
  },
  {
   "cell_type": "markdown",
   "metadata": {},
   "source": [
    "##### Prepare train data"
   ]
  },
  {
   "cell_type": "code",
   "execution_count": 7,
   "metadata": {},
   "outputs": [],
   "source": [
    "train_data_windows = create_win_data( train_data, SEQUENCE_LENGTH)\n",
    "X_train, y_train = features_and_labels( train_data_windows)\n",
    "normalized_train_data, record_min_train, record_max_train = normalize( train_data_windows)\n",
    "X_train_normalized, y_train_normalized = features_and_labels( normalized_train_data)"
   ]
  },
  {
   "cell_type": "markdown",
   "metadata": {},
   "source": [
    "##### Prepare test data"
   ]
  },
  {
   "cell_type": "code",
   "execution_count": 8,
   "metadata": {},
   "outputs": [],
   "source": [
    "test_data_windows = create_win_data( test_data, SEQUENCE_LENGTH)\n",
    "X_test, y_test = features_and_labels( test_data_windows)\n",
    "normalized_test_data, record_min_test, record_max_test = normalize( test_data_windows)\n",
    "X_test_normalized, y_test_normalized = features_and_labels( normalized_test_data)"
   ]
  },
  {
   "cell_type": "markdown",
   "metadata": {},
   "source": [
    "##### Perceptron"
   ]
  },
  {
   "cell_type": "code",
   "execution_count": 9,
   "metadata": {},
   "outputs": [
    {
     "name": "stdout",
     "output_type": "stream",
     "text": [
      "Model: \"sequential\"\n",
      "_________________________________________________________________\n",
      " Layer (type)                Output Shape              Param #   \n",
      "=================================================================\n",
      " dense (Dense)               (None, 10, 1)             3         \n",
      "                                                                 \n",
      "=================================================================\n",
      "Total params: 3 (12.00 Byte)\n",
      "Trainable params: 3 (12.00 Byte)\n",
      "Non-trainable params: 0 (0.00 Byte)\n",
      "_________________________________________________________________\n"
     ]
    }
   ],
   "source": [
    "perceptron = Perceptron( input_shape=( INPUT_TIMESTEPS, INPUT_DIM))\n",
    "\n",
    "perceptron.summary()"
   ]
  },
  {
   "cell_type": "code",
   "execution_count": 10,
   "metadata": {},
   "outputs": [
    {
     "name": "stdout",
     "output_type": "stream",
     "text": [
      "Epoch 1/10\n",
      "8/8 [==============================] - 1s 5ms/step - loss: 1.4091\n",
      "Epoch 2/10\n",
      "8/8 [==============================] - 0s 3ms/step - loss: 1.3723\n",
      "Epoch 3/10\n",
      "8/8 [==============================] - 0s 3ms/step - loss: 1.3361\n",
      "Epoch 4/10\n",
      "8/8 [==============================] - 0s 2ms/step - loss: 1.3009\n",
      "Epoch 5/10\n",
      "8/8 [==============================] - 0s 3ms/step - loss: 1.2663\n",
      "Epoch 6/10\n",
      "8/8 [==============================] - 0s 2ms/step - loss: 1.2326\n",
      "Epoch 7/10\n",
      "8/8 [==============================] - 0s 2ms/step - loss: 1.1997\n",
      "Epoch 8/10\n",
      "8/8 [==============================] - 0s 2ms/step - loss: 1.1672\n",
      "Epoch 9/10\n",
      "8/8 [==============================] - 0s 5ms/step - loss: 1.1363\n",
      "Epoch 10/10\n",
      "8/8 [==============================] - 0s 2ms/step - loss: 1.1054\n"
     ]
    }
   ],
   "source": [
    "perceptron.fit(\n",
    "\tinput=X_train_normalized,\n",
    "\tlabel=y_train_normalized,\n",
    "\tepochs=EPOCHS,\n",
    "\tbatch_size=BATCH_SIZE\n",
    ")"
   ]
  },
  {
   "cell_type": "markdown",
   "metadata": {},
   "source": [
    "##### Evaluate model prediction on train data"
   ]
  },
  {
   "cell_type": "code",
   "execution_count": 11,
   "metadata": {},
   "outputs": [
    {
     "name": "stdout",
     "output_type": "stream",
     "text": [
      "24/24 [==============================] - 0s 2ms/step\n",
      "MSE: 276896.09\n",
      "RMSE: 526.21\n",
      "MAE: 424.42\n",
      "MAPE: 10.34%\n"
     ]
    }
   ],
   "source": [
    "y_train_pred_normalized_perceptron = perceptron.predict( X_train_normalized)\n",
    "y_train_pred_perceptron = denormalize( y_train_pred_normalized_perceptron, record_min_train, record_max_train)\n",
    "\n",
    "evaluate( y_train, y_train_pred_perceptron)"
   ]
  },
  {
   "cell_type": "markdown",
   "metadata": {},
   "source": [
    "##### Evaluate model prediction on test data"
   ]
  },
  {
   "cell_type": "code",
   "execution_count": 12,
   "metadata": {},
   "outputs": [
    {
     "name": "stdout",
     "output_type": "stream",
     "text": [
      "4/4 [==============================] - 0s 3ms/step\n",
      "MSE: 180242.83\n",
      "RMSE: 424.55\n",
      "MAE: 345.80\n",
      "MAPE: 7.39%\n"
     ]
    }
   ],
   "source": [
    "y_test_pred_normalized_perceptron = perceptron.predict( X_test_normalized)\n",
    "y_test_pred_perceptron = denormalize( y_test_pred_normalized_perceptron, record_min_test, record_max_test)\n",
    "\n",
    "evaluate( y_test, y_test_pred_perceptron)"
   ]
  },
  {
   "cell_type": "markdown",
   "metadata": {},
   "source": [
    "##### LSTM"
   ]
  },
  {
   "cell_type": "code",
   "execution_count": 13,
   "metadata": {},
   "outputs": [
    {
     "name": "stdout",
     "output_type": "stream",
     "text": [
      "Model: \"sequential_1\"\n",
      "_________________________________________________________________\n",
      " Layer (type)                Output Shape              Param #   \n",
      "=================================================================\n",
      " lstm (LSTM)                 (None, 10, 50)            10600     \n",
      "                                                                 \n",
      " lstm_1 (LSTM)               (None, 50)                20200     \n",
      "                                                                 \n",
      " dense_1 (Dense)             (None, 1)                 51        \n",
      "                                                                 \n",
      "=================================================================\n",
      "Total params: 30851 (120.51 KB)\n",
      "Trainable params: 30851 (120.51 KB)\n",
      "Non-trainable params: 0 (0.00 Byte)\n",
      "_________________________________________________________________\n"
     ]
    }
   ],
   "source": [
    "lstm = LSTM(\n",
    "\tneurons=NEURONS,\n",
    "\tinput_shape=( INPUT_TIMESTEPS, INPUT_DIM)\n",
    ")\n",
    "\n",
    "lstm.summary()"
   ]
  },
  {
   "cell_type": "code",
   "execution_count": 14,
   "metadata": {},
   "outputs": [
    {
     "name": "stdout",
     "output_type": "stream",
     "text": [
      "Epoch 1/10\n",
      "8/8 [==============================] - 6s 16ms/step - loss: 0.1844 - mae: 0.5184\n",
      "Epoch 2/10\n",
      "8/8 [==============================] - 0s 17ms/step - loss: 0.0913 - mae: 0.3638\n",
      "Epoch 3/10\n",
      "8/8 [==============================] - 0s 13ms/step - loss: 0.0807 - mae: 0.3469\n",
      "Epoch 4/10\n",
      "8/8 [==============================] - 0s 14ms/step - loss: 0.0766 - mae: 0.3518\n",
      "Epoch 5/10\n",
      "8/8 [==============================] - 0s 14ms/step - loss: 0.0691 - mae: 0.3282\n",
      "Epoch 6/10\n",
      "8/8 [==============================] - 0s 12ms/step - loss: 0.0649 - mae: 0.3105\n",
      "Epoch 7/10\n",
      "8/8 [==============================] - 0s 11ms/step - loss: 0.0589 - mae: 0.3036\n",
      "Epoch 8/10\n",
      "8/8 [==============================] - 0s 10ms/step - loss: 0.0515 - mae: 0.2753\n",
      "Epoch 9/10\n",
      "8/8 [==============================] - 0s 13ms/step - loss: 0.0468 - mae: 0.2557\n",
      "Epoch 10/10\n",
      "8/8 [==============================] - 0s 12ms/step - loss: 0.0462 - mae: 0.2504\n"
     ]
    }
   ],
   "source": [
    "lstm.fit(\n",
    "\tinput=X_train_normalized,\n",
    "\tlabel=y_train_normalized,\n",
    "\tepochs=EPOCHS,\n",
    "\tbatch_size=BATCH_SIZE\n",
    ")"
   ]
  },
  {
   "cell_type": "markdown",
   "metadata": {},
   "source": [
    "##### Evaluate model prediction on train data"
   ]
  },
  {
   "cell_type": "code",
   "execution_count": 15,
   "metadata": {},
   "outputs": [
    {
     "name": "stdout",
     "output_type": "stream",
     "text": [
      "24/24 [==============================] - 1s 5ms/step\n",
      "MSE: 2672.61\n",
      "RMSE: 51.70\n",
      "MAE: 40.22\n",
      "MAPE: 0.99%\n"
     ]
    }
   ],
   "source": [
    "y_train_pred_normalized_lstm = lstm.predict( X_train_normalized)\n",
    "y_train_pred_lstm = denormalize( y_train_pred_normalized_lstm, record_min_train, record_max_train)\n",
    "\n",
    "evaluate( y_train, y_train_pred_lstm)"
   ]
  },
  {
   "cell_type": "markdown",
   "metadata": {},
   "source": [
    "##### Evaluate model prediction on test data"
   ]
  },
  {
   "cell_type": "code",
   "execution_count": 16,
   "metadata": {},
   "outputs": [
    {
     "name": "stdout",
     "output_type": "stream",
     "text": [
      "4/4 [==============================] - 0s 4ms/step\n",
      "MSE: 1316.54\n",
      "RMSE: 36.28\n",
      "MAE: 30.32\n",
      "MAPE: 0.66%\n"
     ]
    }
   ],
   "source": [
    "y_test_pred_normalized_lstm = lstm.predict( X_test_normalized)\n",
    "y_test_pred_lstm = denormalize( y_test_pred_normalized_lstm, record_min_test, record_max_test)\n",
    "\n",
    "evaluate( y_test, y_test_pred_lstm)"
   ]
  },
  {
   "cell_type": "markdown",
   "metadata": {},
   "source": [
    "##### Bidirectional LSTM"
   ]
  },
  {
   "cell_type": "code",
   "execution_count": 17,
   "metadata": {},
   "outputs": [
    {
     "name": "stdout",
     "output_type": "stream",
     "text": [
      "Model: \"sequential_2\"\n",
      "_________________________________________________________________\n",
      " Layer (type)                Output Shape              Param #   \n",
      "=================================================================\n",
      " bidirectional (Bidirection  (None, 10, 100)           21200     \n",
      " al)                                                             \n",
      "                                                                 \n",
      " bidirectional_1 (Bidirecti  (None, 100)               60400     \n",
      " onal)                                                           \n",
      "                                                                 \n",
      " dense_2 (Dense)             (None, 1)                 101       \n",
      "                                                                 \n",
      "=================================================================\n",
      "Total params: 81701 (319.14 KB)\n",
      "Trainable params: 81701 (319.14 KB)\n",
      "Non-trainable params: 0 (0.00 Byte)\n",
      "_________________________________________________________________\n"
     ]
    }
   ],
   "source": [
    "bilstm = BiLSTM(\n",
    "\tneurons=NEURONS,\n",
    "\tinput_shape=( INPUT_TIMESTEPS, INPUT_DIM)\n",
    ")\n",
    "\n",
    "bilstm.summary()"
   ]
  },
  {
   "cell_type": "code",
   "execution_count": 18,
   "metadata": {},
   "outputs": [
    {
     "name": "stdout",
     "output_type": "stream",
     "text": [
      "Epoch 1/10\n",
      "8/8 [==============================] - 8s 17ms/step - loss: 0.1485 - mae: 0.4675\n",
      "Epoch 2/10\n",
      "8/8 [==============================] - 0s 16ms/step - loss: 0.0866 - mae: 0.3333\n",
      "Epoch 3/10\n",
      "8/8 [==============================] - 0s 18ms/step - loss: 0.0690 - mae: 0.3315\n",
      "Epoch 4/10\n",
      "8/8 [==============================] - 0s 17ms/step - loss: 0.0627 - mae: 0.3113\n",
      "Epoch 5/10\n",
      "8/8 [==============================] - 0s 16ms/step - loss: 0.0561 - mae: 0.2865\n",
      "Epoch 6/10\n",
      "8/8 [==============================] - 0s 19ms/step - loss: 0.0495 - mae: 0.2701\n",
      "Epoch 7/10\n",
      "8/8 [==============================] - 0s 16ms/step - loss: 0.0453 - mae: 0.2499\n",
      "Epoch 8/10\n",
      "8/8 [==============================] - 0s 18ms/step - loss: 0.0440 - mae: 0.2407\n",
      "Epoch 9/10\n",
      "8/8 [==============================] - 0s 15ms/step - loss: 0.0426 - mae: 0.2375\n",
      "Epoch 10/10\n",
      "8/8 [==============================] - 0s 16ms/step - loss: 0.0411 - mae: 0.2360\n"
     ]
    }
   ],
   "source": [
    "bilstm.fit(\n",
    "\tinput=X_train_normalized,\n",
    "\tlabel=y_train_normalized,\n",
    "\tepochs=EPOCHS,\n",
    "\tbatch_size=BATCH_SIZE\n",
    ")"
   ]
  },
  {
   "cell_type": "markdown",
   "metadata": {},
   "source": [
    "##### Evaluate model prediction on train data"
   ]
  },
  {
   "cell_type": "code",
   "execution_count": 19,
   "metadata": {},
   "outputs": [
    {
     "name": "stdout",
     "output_type": "stream",
     "text": [
      "24/24 [==============================] - 2s 6ms/step\n",
      "MSE: 2469.47\n",
      "RMSE: 49.69\n",
      "MAE: 38.00\n",
      "MAPE: 0.94%\n"
     ]
    }
   ],
   "source": [
    "y_train_pred_normalized_bilstm = bilstm.predict( X_train_normalized)\n",
    "y_train_pred_bilstm = denormalize( y_train_pred_normalized_bilstm, record_min_train, record_max_train)\n",
    "\n",
    "evaluate( y_train, y_train_pred_bilstm)"
   ]
  },
  {
   "cell_type": "markdown",
   "metadata": {},
   "source": [
    "##### Evaluate model prediction on test data"
   ]
  },
  {
   "cell_type": "code",
   "execution_count": 20,
   "metadata": {},
   "outputs": [
    {
     "name": "stdout",
     "output_type": "stream",
     "text": [
      "4/4 [==============================] - 0s 4ms/step\n",
      "MSE: 1075.80\n",
      "RMSE: 32.80\n",
      "MAE: 26.98\n",
      "MAPE: 0.59%\n"
     ]
    }
   ],
   "source": [
    "y_test_pred_normalized_bilstm = bilstm.predict( X_test_normalized)\n",
    "y_test_pred_bilstm = denormalize( y_test_pred_normalized_bilstm, record_min_test, record_max_test)\n",
    "\n",
    "evaluate( y_test, y_test_pred_bilstm)"
   ]
  }
 ],
 "metadata": {
  "kernelspec": {
   "display_name": "Python 3",
   "language": "python",
   "name": "python3"
  },
  "language_info": {
   "codemirror_mode": {
    "name": "ipython",
    "version": 3
   },
   "file_extension": ".py",
   "mimetype": "text/x-python",
   "name": "python",
   "nbconvert_exporter": "python",
   "pygments_lexer": "ipython3",
   "version": "3.11.7"
  }
 },
 "nbformat": 4,
 "nbformat_minor": 2
}
